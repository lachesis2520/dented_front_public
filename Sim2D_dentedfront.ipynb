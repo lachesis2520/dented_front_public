{
 "cells": [
  {
   "cell_type": "code",
   "execution_count": 1,
   "metadata": {},
   "outputs": [],
   "source": [
    "import numpy as np\n",
    "import matplotlib.pyplot as plt\n",
    "import time\n",
    "import matplotlib.gridspec as gridspec\n",
    "import matplotlib.patches as patch\n",
    "from tqdm import tqdm"
   ]
  },
  {
   "cell_type": "markdown",
   "metadata": {},
   "source": [
    "# Code for simulation"
   ]
  },
  {
   "cell_type": "code",
   "execution_count": 1,
   "metadata": {},
   "outputs": [],
   "source": [
    "class Sim2D:\n",
    "    '''  2D simulation, deterministic'''\n",
    "    def __init__(self, L = 100, Tmax = 1000, N0 = [], Ts = 0, dt=0.1, model=0, fs=0.05 ):\n",
    "        self.L = L; # simulation box size\n",
    "        self.Tmax = Tmax; # maximum timestep\n",
    "        if(N0==[]): # default construction of initial poppulation density\n",
    "            N0 = np.zeros((2,L,L)); # spatial population density by (type, x, y)\n",
    "            N0[0,:int(L/2)-5,:3]+=1; N0[0,int(L/2)+5:,:3]+=1; # initialize wildtype background\n",
    "            N0[1,int(L/2)-5:int(L/2)+5,:3]+=1; #initialize a narrow mutant slab \n",
    "        self.N = N0;\n",
    "        if(Ts==0): # take snapshots at fixed timesteps\n",
    "            Ts = np.arange(0,Tmax+1,50);\n",
    "        self.Ts = Ts;\n",
    "        self.Ns = np.zeros(( len(Ts), 2, np.shape(N0)[1] , np.shape(N0)[2] )); # spatiotemporal population density\n",
    "        self.Ns[0] = N0;\n",
    "        self.T = 0;\n",
    "        self.Tc = 0;\n",
    "        self.dt = dt;\n",
    "        self.Nshift = np.zeros(Tmax);\n",
    "        self.Model = model;\n",
    "        self.K = 1;\n",
    "        self.fs = fs;\n",
    "        \n",
    "        \n",
    "    def generate_step(self, param): #initialize parameters\n",
    "        self.Param = param;\n",
    "        if(self.Model == 0): # growth-dispersal tradeoff model\n",
    "            r, D0, D1, s = param;\n",
    "            self.r = r; self.D0 = D0; self.D1 = D1; self.s = s; \n",
    "        elif(self.Model == 3): # cooperator-cheater model\n",
    "            r, D, s, a, b = param;\n",
    "            self.r = r; self.D = D; self.s = s; self.a = a; self.b=b; \n",
    "        elif(self.Model == 4): # constant growth / dispersal model\n",
    "            r, D0, D1, s = param;\n",
    "            self.r = r; self.D0 = D0; self.D1 = D1; self.s = s; \n",
    "            \n",
    "    def update(self): # models how population grows and disperses in each timestep\n",
    "        Nl = np.roll(self.N, -1, axis=2); Nl[:,:,-1] = self.N[:,:,-1]; # Nleft[i,j] is the left-element of N[i,j], i.e. Nleft[i,j] = N[i,j+1] \n",
    "        Nr = np.roll(self.N, 1, axis=2); Nr[:,:,0] = self.N[:,:,0];\n",
    "        Nu = np.roll(self.N, 1, axis=1);\n",
    "        Nd = np.roll(self.N, -1, axis=1);\n",
    "        \n",
    "        if(self.Model==0): # growth-dispersal tradeoff model\n",
    "            M = np.copy(self.N); M[0]+=self.N[1]; M[1]+=self.N[0]; \n",
    "            Ds = np.copy(self.N)*0; Ds = Ds + self.D0;\n",
    "            Ds = np.where(M==0, Ds, Ds-self.D1*self.N/M ); Ds[0]=Ds[1];\n",
    "            Dl = np.roll(Ds, -1, axis=2); Dl[:,:,-1] = Ds[:,:,-1]; \n",
    "            Dr = np.roll(Ds, 1, axis=2); Dr[:,:,0] = Ds[:,:,0];\n",
    "            Du = np.roll(Ds, 1, axis=1);\n",
    "            Dd = np.roll(Ds, -1, axis=1);\n",
    "            dn = (Dl*Nl + Dr*Nr-4*Ds*self.N + Du*Nu + Dd*Nd) + self.r*self.N; dn[1] = dn[1]+self.r*self.s*self.N[1];\n",
    "            dn = dn*(1-M/self.K);\n",
    "            \n",
    "            return dn\n",
    "        \n",
    "        elif(self.Model==3): # cooperator-cheater model\n",
    "            M = np.copy(self.N); M[0]+=self.N[1]; M[1]+=self.N[0]; # total local population\n",
    "            f = np.where(M==0, 0, self.N/M); \n",
    "            ab = np.zeros((2,self.L,self.L)); ab[0]+=self.a; ab[1]+=self.b;\n",
    "            r = np.zeros((2,self.L,self.L)); r[0]+=self.r; r[1]+=self.r*(1-self.s);\n",
    "            dn = self.D*(Nl + Nr - 4*self.N + Nu + Nd) + (r + np.flip(f,0)*ab)*self.N;\n",
    "            dn = dn*(1-M/self.K);\n",
    "            \n",
    "            return dn\n",
    "        \n",
    "        elif(self.Model==4): # constant growth / dispersal model\n",
    "            M = np.copy(self.N); M[0]+=self.N[1]; M[1]+=self.N[0]; # total local population\n",
    "            Ds = np.copy(self.N)*0; \n",
    "            Ds = Ds+self.D0; Ds[1] = Ds[1]-self.D1;\n",
    "            Dl = np.roll(Ds, -1, axis=2); Dl[:,:,-1] = Ds[:,:,-1]; \n",
    "            Dr = np.roll(Ds, 1, axis=2); Dr[:,:,0] = Ds[:,:,0];\n",
    "            Du = np.roll(Ds, 1, axis=1);\n",
    "            Dd = np.roll(Ds, -1, axis=1);\n",
    "            dn = (Dl*Nl + Dr*Nr-4*Ds*self.N + Du*Nu + Dd*Nd) + self.r*self.N; dn[1] = dn[1]+self.r*self.s*self.N[1];\n",
    "            dn = dn*(1-M/self.K);\n",
    "            \n",
    "            return dn\n",
    "        \n",
    "        \n",
    "        else:\n",
    "            print(\"model not implemented\")\n",
    "    \n",
    "        \n",
    "    def proceed(self): # propagate over time\n",
    "        while(self.T < self.Tmax):\n",
    "            self.Nshift[self.T] = self.Nshift[self.T-1];\n",
    "            self.N += self.update()*self.dt;\n",
    "            self.N = self.N*(self.N > 0);\n",
    "            \n",
    "            # shift the co-moving frame if the colony expands far enough\n",
    "            if(np.sum( self.N[0,:,int(self.L/2)] + self.N[1,:,int(self.L/2)] ) > 0.5*self.L   ):\n",
    "                self.Nshift[self.T] += int(self.L*fs);\n",
    "                self.N = np.roll(self.N, -int(self.L*fs), axis=2); \n",
    "                self.N[:,:,int(self.L)-int(self.L*fs): ] = 0*self.N[:,:,int(self.L)-int(self.L*fs): ];\n",
    "            # Terminate if the midpoint mutant population is greater than 0.25. (i.e. more than half at shift)\n",
    "            if( np.sum(self.N[1,:,int(self.L/2)])  > 0.25*self.L   ):\n",
    "                for i in np.arange(self.Ns.shape[0]-self.Tc):\n",
    "                    self.Ns[self.Tc+i, :, :, :] = self.N;\n",
    "                self.T = self.Tmax;\n",
    "            self.T = self.T + 1;\n",
    "            # save snapshot in fixed timesteps\n",
    "            if(self.T in self.Ts):\n",
    "                self.Ns[self.Tc, :,:,: ] = self.N;\n",
    "                self.Tc = self.Tc + 1;"
   ]
  },
  {
   "cell_type": "code",
   "execution_count": 7,
   "metadata": {},
   "outputs": [],
   "source": [
    "class analysis: # visualization tool for simulation result\n",
    "    def __init__(self, sim):\n",
    "        self.Ns = sim.Ns;\n",
    "        self.Ts = sim.Ts;\n",
    "        self.Nshift = sim.Nshift;\n",
    "        self.L = np.shape(sim.Ns)[2];\n",
    "        self.Model = sim.Model;\n",
    "        self.Param = sim.Param;\n",
    "        self.dt = sim.dt;\n",
    "        self.T = sim.T;\n",
    "        self.K = sim.K;\n",
    "        self.Tmax = sim.Tmax;\n",
    "    def snap( self, t=-2 ):\n",
    "        img = np.zeros((np.shape(self.Ns)[2],np.shape(self.Ns)[3],3));\n",
    "        img[:,:,0]=self.Ns[t,0]; img[:,:,1]=self.Ns[t,1];\n",
    "        return plt.imshow( img, interpolation='bilinear' )\n",
    "    def snapsave( self, t=-2 ):\n",
    "        img = np.zeros((self.L,self.L,3));\n",
    "        img[:,:,0] = np.where( self.Ns[t,0]+self.Ns[t,1]<0.5*self.K, 0, self.Ns[t,0]/(self.Ns[t,0]+self.Ns[t,1]) );\n",
    "        img[:,:,1] = np.where( self.Ns[t,0]+self.Ns[t,1]<0.5*self.K, 0, self.Ns[t,1]/(self.Ns[t,0]+self.Ns[t,1]) );\n",
    "        return img\n",
    "    def snaps(self, ts, c=True ):\n",
    "        fig, ax = plt.subplots( 1, len(ts), figsize= (5*len(ts), 7) );\n",
    "        for i in np.arange(len(ts)):\n",
    "            img = np.zeros((np.shape(self.Ns)[2],np.shape(self.Ns)[3],3));\n",
    "            img[:,:,0] = np.where( self.Ns[ts[i],0]+self.Ns[ts[i],1]<0.5*self.K, 0, self.Ns[ts[i],0]/(self.Ns[ts[i],0]+self.Ns[ts[i],1]) );\n",
    "            img[:,:,1] = np.where( self.Ns[ts[i],0]+self.Ns[ts[i],1]<0.5*self.K, 0, self.Ns[ts[i],1]/(self.Ns[ts[i],0]+self.Ns[ts[i],1]) );\n",
    "            #img[:,:,3] = self.Ns[ts[i],0]+self.Ns[ts[i],1];\n",
    "            if(c):\n",
    "                CS = ax[i].contour( img[:,:,1] );#\n",
    "                ax[i].clabel(CS, inline=1, fontsize=10);\n",
    "            ax[i].imshow(img, interpolation='bilinear');\n",
    "            ax[i].set_title('t='+str( self.Ts[ts[i]+1]*self.dt)[:4]+'hrs');\n",
    "        fig.suptitle('Model='+str(self.Model)+', params='+str(self.Param), y=0.85, fontsize=15 );\n",
    "        return fig, ax"
   ]
  },
  {
   "cell_type": "markdown",
   "metadata": {},
   "source": [
    "# 210306 Simulations for manuscript"
   ]
  },
  {
   "cell_type": "code",
   "execution_count": 9,
   "metadata": {},
   "outputs": [],
   "source": [
    "us = np.zeros((3,3));\n",
    "for i in np.arange(3):\n",
    "    us[i] = np.array([0.2,0.6,1.]);\n",
    "vms = np.zeros((3,3));\n",
    "vms[0] = np.sqrt(1+us[0]**2);\n",
    "vms[1] = 1+(vms[0]-1)/2;\n",
    "vms[2] += 0.8;"
   ]
  },
  {
   "cell_type": "code",
   "execution_count": 32,
   "metadata": {},
   "outputs": [],
   "source": [
    "# model 0: growth-dispersal tradeoff\n",
    "# model 3: cheater-cooperator\n",
    "# model 4: density-independent.\n",
    "imgs = np.load('sim_model0.npz')['imgs']"
   ]
  },
  {
   "cell_type": "code",
   "execution_count": 12,
   "metadata": {},
   "outputs": [
    {
     "data": {
      "image/png": "[encoded data removed]",
      "text/plain": [
       "<Figure size 864x612 with 1 Axes>"
      ]
     },
     "metadata": {
      "needs_background": "light"
     },
     "output_type": "display_data"
    }
   ],
   "source": [
    "fig, ax = plt.subplots(figsize = (12,8.5) );\n",
    "\n",
    "xs = np.linspace(0,1.6**2-1,100);\n",
    "ys1 = np.sqrt(1 + xs**2);\n",
    "xyf = np.zeros((300,2));\n",
    "xyf[:100,0]=xs; xyf[:100,1]=ys1;\n",
    "xyf[100:200,0]=np.flip(xs); xyf[100:200,1]=np.ones(100)*ys1[-1];\n",
    "xyf[200:,0]=0; xyf[200:,1]=np.flip(ys1);\n",
    "\n",
    "xy2 = np.zeros((300,2));\n",
    "xy2[:100,0]=xs; xy2[:100,1]=ys1;\n",
    "xy2[100:200,0]=np.ones(100)*xs[-1]; xy2[100:200,1]=np.flip(ys1);\n",
    "xy2[200:,0]=np.flip(xs); xy2[200:,1]=np.ones(100)*1;\n",
    "\n",
    "ax.add_patch(patch.Polygon(xyf, color=(1.,1.,1.), alpha=0.9) )\n",
    "ax.add_patch(patch.Polygon(xy2, color=(0,0.5,1.), alpha=0.5) )\n",
    "ax.add_patch(patch.Rectangle( (0,0.75),1.2,0.25 , color=(0,0.9,1.), alpha=0.1) )\n",
    "#ax.add_patch(patch.Rectangle( (-0.5,0),0.5,10 , fill=False) )\n",
    "ax.plot(xs, ys1, color=(0.,0.1,1.0), alpha=1, linewidth=6)\n",
    "ax.plot(xs, xs*0+1, color='k', alpha=0.5)\n",
    "\n",
    "for i in np.arange(3):\n",
    "    for j in np.arange(3):\n",
    "        x = us[i,j];\n",
    "        y = vms[i,j];\n",
    "        if( (i,j)==(1,0) ): continue;\n",
    "        if(i in [0,2]): \n",
    "            x = x-0.1; y = y+0.008; ax.add_patch( patch.Circle( (x+0.1, y-0.008), 0.01, facecolor='k', edgecolor='w', linewidth=1, zorder=10 ) );\n",
    "        elif((i,j)==(1,1)):\n",
    "            y = y - 0.075; ax.add_patch( patch.Circle( (x, y+0.075), 0.01, facecolor='k', edgecolor='w', linewidth=1, zorder=10 ) );\n",
    "        elif((i,j)==(1,2)):\n",
    "            x = x-0.1; y = y-0.158; ax.add_patch( patch.Circle( (x+0.1, y+0.158), 0.01, facecolor='k', edgecolor='w', linewidth=1, zorder=10 ) );\n",
    "        else:\n",
    "            ax.add_patch( patch.Circle( (x, y), 0.01, facecolor='k', edgecolor='w', linewidth=1, zorder=10 ) );\n",
    "        test = ax.inset_axes([x,y,0.2,0.15], transform=ax.transData);\n",
    "        img = np.copy(imgs[i,j]);\n",
    "        img = img.swapaxes(0,1);\n",
    "        img = np.flip(img,axis=0);\n",
    "        img = img[100:]\n",
    "        test.imshow(img);\n",
    "        test.set_xticks([]);\n",
    "        test.set_yticks([]);\n",
    "\n",
    "ax.set_xlim(0.0,1.2);\n",
    "ax.set_ylim(0.75,1.6);\n",
    "\n",
    "# model 3\n",
    "#ax.set_xlabel(r'$u/v_{\\rm W}=\\sqrt{\\alpha-s}$', fontsize=24);\n",
    "#ax.set_ylabel(r'$v_{\\rm M}/v_{\\rm W}=\\sqrt{ 1-s }  $', fontsize=24);\n",
    "\n",
    "# model 0\n",
    "ax.set_xlabel(r'$u/v_{\\rm W}=\\sqrt{\\Delta r / r_{\\rm W}}$', fontsize=24);\n",
    "ax.set_ylabel(r'$v_{\\rm M}/v_{\\rm W}=\\sqrt{ (1+\\Delta r/r_{\\rm W})(1+\\Delta D/D_{\\rm W})  }  $', fontsize=24);\n",
    "\n",
    "ax.set_yticks([0.8, 1., 1.2, 1.4,1.6]);\n",
    "plt.setp(ax.get_yticklabels(), Fontsize=24);\n",
    "plt.setp(ax.get_xticklabels(), Fontsize=24);\n",
    "\n",
    "#fig.savefig('4b.pdf',bbox_inches='tight')"
   ]
  },
  {
   "cell_type": "code",
   "execution_count": null,
   "metadata": {},
   "outputs": [],
   "source": [
    "# model 0: growth-dispersal tradeoff\n",
    "# model 3: cheater-cooperator\n",
    "# model 4: density-independent.\n",
    "imgs = np.load('sim_model4.npz')['imgs']"
   ]
  },
  {
   "cell_type": "code",
   "execution_count": 47,
   "metadata": {},
   "outputs": [
    {
     "data": {
      "image/png": "[encoded data removed]",
      "text/plain": [
       "<Figure size 720x288 with 6 Axes>"
      ]
     },
     "metadata": {},
     "output_type": "display_data"
    }
   ],
   "source": [
    "fig, ax = plt.subplots( 2,3, figsize=(10,4) );\n",
    "\n",
    "for i in np.arange(2):\n",
    "    for j in np.arange(3):\n",
    "        img = np.copy(imgs[i*2,j]);\n",
    "        img = img.swapaxes(0,1);\n",
    "        img = np.flip(img,axis=0);\n",
    "        img = img[200:]\n",
    "        ax[i,j].imshow(img)\n",
    "        ax[i,j].set_xticks([]);\n",
    "        ax[i,j].set_yticks([]);\n",
    "        \n",
    "#fig.savefig('s6.pdf',bbox_inches='tight')"
   ]
  },
  {
   "cell_type": "markdown",
   "metadata": {},
   "source": [
    "## cheater-cooperator model simulation (model 3)"
   ]
  },
  {
   "cell_type": "code",
   "execution_count": 19,
   "metadata": {},
   "outputs": [
    {
     "name": "stderr",
     "output_type": "stream",
     "text": [
      "100%|██████████| 3/3 [00:00<00:00, 12658.87it/s]\n"
     ]
    }
   ],
   "source": [
    "L=400;\n",
    "N0 = np.zeros((2,L,L)); # type, x, y\n",
    "N0[0,:int(L/2)-30,:3]+=1; N0[0,int(L/2)+30:,:3]+=1;\n",
    "N0[1,int(L/2)-30:int(L/2)+30,:3]+=1; \n",
    "\n",
    "us = np.zeros((3,3));\n",
    "for i in np.arange(3):\n",
    "    us[i] = np.array([0.2,0.6,1.]);\n",
    "vms = np.zeros((3,3));\n",
    "vms[0] = np.sqrt(1+us[0]**2);\n",
    "vms[1] = 1+(vms[0]-1)/2;\n",
    "vms[2] += 0.8;\n",
    "ss = 1-vms**2;\n",
    "alphas = ss+us**2;\n",
    "\n",
    "imgs = np.zeros((3,3,L,L,3));\n",
    "for i in tqdm(np.arange(3)):\n",
    "    for j in np.arange(3):\n",
    "        if( (i,j)==(1,0) ): continue;\n",
    "        test = Sim2D(L=L, Tmax=10000, N0=N0, fs=0.05, model=3 );\n",
    "        test.generate_step([1,1,ss[i,j],-alphas[i,j],alphas[i,j],0.]);\n",
    "        test.proceed();\n",
    "        a=analysis(test);        \n",
    "        img = a.snapsave(-2);\n",
    "        img[:,:,2] = img[:,:,1];\n",
    "        img[:,:,1] = img[:,:,1];\n",
    "        imgs[i,j] = img;\n",
    "#np.savez('sim_model3.npz', imgs=imgs);"
   ]
  },
  {
   "cell_type": "markdown",
   "metadata": {},
   "source": [
    "## growth-dispersal tradeoff model simulation (model 0)"
   ]
  },
  {
   "cell_type": "code",
   "execution_count": 30,
   "metadata": {},
   "outputs": [
    {
     "name": "stderr",
     "output_type": "stream",
     "text": [
      "  0%|          | 0/3 [00:00<?, ?it/s]/state/partition1/llgrid/pkg/anaconda/anaconda3-2020a/lib/python3.6/site-packages/ipykernel_launcher.py:7: DeprecationWarning: elementwise comparison failed; this will raise an error in the future.\n",
      "  import sys\n",
      "/state/partition1/llgrid/pkg/anaconda/anaconda3-2020a/lib/python3.6/site-packages/ipykernel_launcher.py:117: RuntimeWarning: divide by zero encountered in true_divide\n",
      "/state/partition1/llgrid/pkg/anaconda/anaconda3-2020a/lib/python3.6/site-packages/ipykernel_launcher.py:117: RuntimeWarning: invalid value encountered in true_divide\n",
      "100%|██████████| 3/3 [00:49<00:00, 17.37s/it]\n"
     ]
    }
   ],
   "source": [
    "L=400;\n",
    "N0 = np.zeros((2,L,L)); # type, x, y\n",
    "N0[0,:int(L/2)-30,:3]+=1; N0[0,int(L/2)+30:,:3]+=1;\n",
    "N0[1,int(L/2)-30:int(L/2)+30,:3]+=1; \n",
    "\n",
    "us = np.zeros((3,3));\n",
    "for i in np.arange(3):\n",
    "    us[i] = np.array([0.2,0.6,1.]);\n",
    "vms = np.zeros((3,3));\n",
    "vms[0] = np.sqrt(1+us[0]**2);\n",
    "vms[1] = 1+(vms[0]-1)/2;\n",
    "vms[2] += 0.8;\n",
    "ss = us**2;\n",
    "d1s = 1- vms**2/(1+ss);\n",
    "\n",
    "imgs = np.zeros((3,3,L,L,3));\n",
    "for i in tqdm(np.arange(3)):\n",
    "    for j in np.arange(3):\n",
    "        if( (i,j)==(1,0) ): continue;\n",
    "        test = Sim2D(L=L, Tmax=501, N0=N0, fs=0.05, model=4 );\n",
    "        test.generate_step([1,1,d1s[i,j], ss[i,j],0.]);\n",
    "        test.proceed();\n",
    "        a=analysis(test);        \n",
    "        img = a.snapsave(-2);\n",
    "        img[:,:,2] = img[:,:,1];\n",
    "        img[:,:,1] = img[:,:,1];\n",
    "        imgs[i,j] = img;\n",
    "#np.savez('sim_model4.npz', imgs=imgs);"
   ]
  },
  {
   "cell_type": "markdown",
   "metadata": {},
   "source": [
    "## Density-independent dispersal and growth model simulation"
   ]
  },
  {
   "cell_type": "code",
   "execution_count": 17,
   "metadata": {},
   "outputs": [
    {
     "name": "stderr",
     "output_type": "stream",
     "text": [
      "  0%|          | 0/3 [00:00<?, ?it/s]/state/partition1/llgrid/pkg/anaconda/anaconda3-2020a/lib/python3.6/site-packages/ipykernel_launcher.py:7: DeprecationWarning: elementwise comparison failed; this will raise an error in the future.\n",
      "  import sys\n",
      "/state/partition1/llgrid/pkg/anaconda/anaconda3-2020a/lib/python3.6/site-packages/ipykernel_launcher.py:117: RuntimeWarning: divide by zero encountered in true_divide\n",
      "/state/partition1/llgrid/pkg/anaconda/anaconda3-2020a/lib/python3.6/site-packages/ipykernel_launcher.py:117: RuntimeWarning: invalid value encountered in true_divide\n",
      "100%|██████████| 3/3 [14:14<00:00, 305.75s/it]\n"
     ]
    }
   ],
   "source": [
    "L=400;\n",
    "N0 = np.zeros((2,L,L)); # type, x, y\n",
    "N0[0,:int(L/2)-30,:3]+=1; N0[0,int(L/2)+30:,:3]+=1;\n",
    "N0[1,int(L/2)-30:int(L/2)+30,:3]+=1; \n",
    "\n",
    "ss = np.array([0.1, 0.4, 0.9]);\n",
    "D1s = np.zeros((3,4));\n",
    "D1s[:,0] = 1 - 1/(1+ss);\n",
    "D1s[:,1] = np.zeros(3);\n",
    "D1s[:,2] = [0, 0.149, 0.255];\n",
    "D1s[:,3] = 1 - (0.75**2)/(1+ss)\n",
    "\n",
    "imgs = np.zeros((3,4,L,L,3));\n",
    "for i in tqdm(np.arange(3)):\n",
    "    for j in np.arange(4):\n",
    "        test = Sim2D(L=L, Tmax=10000, N0=N0, fs=0.05, model=4 );\n",
    "        test.generate_step([1,1,D1s[i,j],ss[i],0.]);\n",
    "        test.proceed();\n",
    "        a=analysis(test);        \n",
    "        img = a.snapsave(4);\n",
    "        img[:,:,2] = img[:,:,1];\n",
    "        img[:,:,1] = img[:,:,1];\n",
    "        imgs[i,j] = img;\n",
    "#np.savez('sim_model0.npz', imgs=imgs);"
   ]
  }
 ],
 "metadata": {
  "kernelspec": {
   "display_name": "Python 3",
   "language": "python",
   "name": "python3"
  },
  "language_info": {
   "codemirror_mode": {
    "name": "ipython",
    "version": 3
   },
   "file_extension": ".py",
   "mimetype": "text/x-python",
   "name": "python",
   "nbconvert_exporter": "python",
   "pygments_lexer": "ipython3",
   "version": "3.7.3"
  },
  "latex_envs": {
   "LaTeX_envs_menu_present": true,
   "autoclose": false,
   "autocomplete": true,
   "bibliofile": "biblio.bib",
   "cite_by": "apalike",
   "current_citInitial": 1,
   "eqLabelWithNumbers": true,
   "eqNumInitial": 1,
   "hotkeys": {
    "equation": "Ctrl-E",
    "itemize": "Ctrl-I"
   },
   "labels_anchors": false,
   "latex_user_defs": false,
   "report_style_numbering": false,
   "user_envs_cfg": false
  },
  "toc": {
   "base_numbering": 1,
   "nav_menu": {},
   "number_sections": true,
   "sideBar": true,
   "skip_h1_title": false,
   "title_cell": "Table of Contents",
   "title_sidebar": "Contents",
   "toc_cell": false,
   "toc_position": {},
   "toc_section_display": true,
   "toc_window_display": false
  },
  "varInspector": {
   "cols": {
    "lenName": 16,
    "lenType": 16,
    "lenVar": 40
   },
   "kernels_config": {
    "python": {
     "delete_cmd_postfix": "",
     "delete_cmd_prefix": "del ",
     "library": "var_list.py",
     "varRefreshCmd": "print(var_dic_list())"
    },
    "r": {
     "delete_cmd_postfix": ") ",
     "delete_cmd_prefix": "rm(",
     "library": "var_list.r",
     "varRefreshCmd": "cat(var_dic_list()) "
    }
   },
   "types_to_exclude": [
    "module",
    "function",
    "builtin_function_or_method",
    "instance",
    "_Feature"
   ],
   "window_display": false
  }
 },
 "nbformat": 4,
 "nbformat_minor": 2
}
